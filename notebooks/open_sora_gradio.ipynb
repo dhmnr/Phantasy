{
 "cells": [
  {
   "cell_type": "code",
   "execution_count": 2,
   "metadata": {},
   "outputs": [
    {
     "name": "stdout",
     "output_type": "stream",
     "text": [
      "Loaded as API: http://localhost:7860/ ✔\n",
      "{'video': '/tmp/gradio/a7345ce3aaf7d6805ce6a319b9f7d96f326bcf07/output_1721615497.730721.mp4', 'subtitles': None}\n"
     ]
    }
   ],
   "source": [
    "from gradio_client import Client, handle_file\n",
    "\n",
    "client = Client(\"http://localhost:7860/\")\n",
    "result = client.predict(\n",
    "\t\tprompt_text=\"Hello!!\",\n",
    "\t\tresolution=\"480p\",\n",
    "\t\taspect_ratio=\"9:16\",\n",
    "\t\tlength=\"2s\",\n",
    "\t\tmotion_strength=5,\n",
    "\t\taesthetic_score=6.5,\n",
    "\t\tuse_motion_strength=False,\n",
    "\t\tuse_aesthetic_score=True,\n",
    "\t\tcamera_motion=\"none\",\n",
    "\t\treference_image=handle_file('https://raw.githubusercontent.com/gradio-app/gradio/main/test/test_files/bus.png'),\n",
    "\t\trefine_prompt=False,\n",
    "\t\tfps=24,\n",
    "\t\tnum_loop=1,\n",
    "\t\tseed=1024,\n",
    "\t\tsampling_steps=30,\n",
    "\t\tcfg_scale=7,\n",
    "\t\tapi_name=\"/run_video_inference\"\n",
    ")\n",
    "print(result)"
   ]
  },
  {
   "cell_type": "code",
   "execution_count": null,
   "metadata": {},
   "outputs": [],
   "source": []
  }
 ],
 "metadata": {
  "kernelspec": {
   "display_name": "phantasy-OXPMPt4P-py3.10",
   "language": "python",
   "name": "python3"
  },
  "language_info": {
   "codemirror_mode": {
    "name": "ipython",
    "version": 3
   },
   "file_extension": ".py",
   "mimetype": "text/x-python",
   "name": "python",
   "nbconvert_exporter": "python",
   "pygments_lexer": "ipython3",
   "version": "3.10.12"
  }
 },
 "nbformat": 4,
 "nbformat_minor": 2
}
