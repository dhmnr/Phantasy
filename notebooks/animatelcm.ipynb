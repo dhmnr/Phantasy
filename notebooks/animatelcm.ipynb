{
 "cells": [
  {
   "cell_type": "code",
   "execution_count": 2,
   "metadata": {},
   "outputs": [
    {
     "name": "stderr",
     "output_type": "stream",
     "text": [
      "Loading pipeline components...:  33%|███▎      | 2/6 [00:00<00:00,  7.25it/s]/home/dmanu006/.cache/pypoetry/virtualenvs/phantasy-OXPMPt4P-py3.10/lib/python3.10/site-packages/transformers/models/clip/feature_extraction_clip.py:28: FutureWarning: The class CLIPFeatureExtractor is deprecated and will be removed in version 5 of Transformers. Please use CLIPImageProcessor instead.\n",
      "  warnings.warn(\n",
      "Loading pipeline components...: 100%|██████████| 6/6 [00:00<00:00,  9.50it/s]\n",
      "The config attributes {'center_input_sample': False, 'flip_sin_to_cos': True, 'freq_shift': 0, 'mid_block_type': 'UNetMidBlock2DCrossAttn', 'only_cross_attention': False, 'attention_head_dim': 8, 'dual_cross_attention': False, 'class_embed_type': None, 'num_class_embeds': None, 'upcast_attention': False, 'resnet_time_scale_shift': 'default', 'resnet_skip_time_act': False, 'resnet_out_scale_factor': 1.0, 'time_embedding_type': 'positional', 'time_embedding_dim': None, 'time_embedding_act_fn': None, 'timestep_post_act': None, 'conv_in_kernel': 3, 'conv_out_kernel': 3, 'class_embeddings_concat': False, 'mid_block_only_cross_attention': None, 'cross_attention_norm': None, 'addition_embed_type_num_heads': 64} were passed to UNetMotionModel, but are not expected and will be ignored. Please verify your config.json configuration file.\n",
      "100%|██████████| 6/6 [00:02<00:00,  2.22it/s]\n"
     ]
    },
    {
     "data": {
      "text/plain": [
       "'animatelcm.gif'"
      ]
     },
     "execution_count": 2,
     "metadata": {},
     "output_type": "execute_result"
    }
   ],
   "source": [
    "import torch\n",
    "from diffusers import AnimateDiffPipeline, LCMScheduler, MotionAdapter\n",
    "from diffusers.utils import export_to_gif\n",
    "\n",
    "adapter = MotionAdapter.from_pretrained(\"wangfuyun/AnimateLCM\", torch_dtype=torch.float16)\n",
    "pipe = AnimateDiffPipeline.from_pretrained(\"emilianJR/epiCRealism\", motion_adapter=adapter, torch_dtype=torch.float16)\n",
    "pipe.scheduler = LCMScheduler.from_config(pipe.scheduler.config, beta_schedule=\"linear\")\n",
    "\n",
    "pipe.load_lora_weights(\"wangfuyun/AnimateLCM\", weight_name=\"AnimateLCM_sd15_t2v_lora.safetensors\", adapter_name=\"lcm-lora\")\n",
    "pipe.set_adapters([\"lcm-lora\"], [0.8])\n",
    "\n",
    "pipe.enable_vae_slicing()\n",
    "pipe.enable_model_cpu_offload()\n",
    "\n",
    "output = pipe(\n",
    "    prompt=\"A space rocket with trails of smoke behind it launching into space from the desert, 4k, high resolution\",\n",
    "    negative_prompt=\"bad quality, worse quality, low resolution\",\n",
    "    num_frames=80,\n",
    "    guidance_scale=2.0,\n",
    "    num_inference_steps=6,\n",
    "    generator=torch.Generator(\"cpu\").manual_seed(0),\n",
    ")\n",
    "frames = output.frames[0]\n",
    "export_to_gif(frames, \"animatelcm.gif\")\n"
   ]
  },
  {
   "cell_type": "code",
   "execution_count": null,
   "metadata": {},
   "outputs": [],
   "source": []
  }
 ],
 "metadata": {
  "kernelspec": {
   "display_name": "phantasy-OXPMPt4P-py3.10",
   "language": "python",
   "name": "python3"
  },
  "language_info": {
   "codemirror_mode": {
    "name": "ipython",
    "version": 3
   },
   "file_extension": ".py",
   "mimetype": "text/x-python",
   "name": "python",
   "nbconvert_exporter": "python",
   "pygments_lexer": "ipython3",
   "version": "3.10.12"
  }
 },
 "nbformat": 4,
 "nbformat_minor": 2
}
