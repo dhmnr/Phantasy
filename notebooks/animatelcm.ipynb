{
 "cells": [
  {
   "cell_type": "code",
   "execution_count": null,
   "metadata": {},
   "outputs": [],
   "source": [
    "import torch\n",
    "from diffusers import AnimateDiffPipeline, LCMScheduler, MotionAdapter\n",
    "from diffusers.utils import export_to_gif\n",
    "\n",
    "adapter = MotionAdapter.from_pretrained(\"wangfuyun/AnimateLCM\", torch_dtype=torch.float16)\n",
    "pipe = AnimateDiffPipeline.from_pretrained(\"emilianJR/epiCRealism\", motion_adapter=adapter, torch_dtype=torch.float16)\n",
    "pipe.scheduler = LCMScheduler.from_config(pipe.scheduler.config, beta_schedule=\"linear\")\n",
    "\n",
    "pipe.load_lora_weights(\"wangfuyun/AnimateLCM\", weight_name=\"AnimateLCM_sd15_t2v_lora.safetensors\", adapter_name=\"lcm-lora\")\n",
    "pipe.set_adapters([\"lcm-lora\"], [0.8])\n",
    "\n",
    "pipe.enable_vae_slicing()\n",
    "pipe.enable_model_cpu_offload()\n",
    "\n",
    "output = pipe(\n",
    "    prompt=\"A space rocket with trails of smoke behind it launching into space from the desert, 4k, high resolution\",\n",
    "    negative_prompt=\"bad quality, worse quality, low resolution\",\n",
    "    num_frames=16,\n",
    "    guidance_scale=2.0,\n",
    "    num_inference_steps=6,\n",
    "    generator=torch.Generator(\"cpu\").manual_seed(0),\n",
    ")\n",
    "frames = output.frames[0]\n",
    "export_to_gif(frames, \"animatelcm.gif\")\n"
   ]
  }
 ],
 "metadata": {
  "language_info": {
   "name": "python"
  }
 },
 "nbformat": 4,
 "nbformat_minor": 2
}
